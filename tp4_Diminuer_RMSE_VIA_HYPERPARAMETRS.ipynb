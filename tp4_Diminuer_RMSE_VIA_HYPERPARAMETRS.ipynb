{
  "nbformat": 4,
  "nbformat_minor": 0,
  "metadata": {
    "colab": {
      "name": "tp4-Diminuer RMSE VIA HYPERPARAMETRS.ipynb",
      "provenance": [],
      "collapsed_sections": []
    },
    "kernelspec": {
      "name": "python3",
      "display_name": "Python 3"
    },
    "language_info": {
      "name": "python"
    }
  },
  "cells": [
    {
      "cell_type": "markdown",
      "source": [
        "Le système de recommandation est un outil de filtrage de l'information qui cherche à prédire quel produit un utilisateur va aimer, et sur cette base, recommande quelques produits aux utilisateurs. Par exemple, Amazon peut recommander de nouveaux articles à acheter, Netflix peut recommander de nouveaux films à regarder et Google peut recommander des actualités susceptibles d'intéresser un utilisateur. Les deux approches les plus utilisées pour construire un système de recommandation sont le filtrage basé sur le contenu (CBF) et le filtrage collaboratif (CF).\n",
        "\n",
        "L'objectif du système de recommandation est de prédire les évaluations de ces éléments. Ensuite, les éléments les mieux notés peuvent être recommandés aux utilisateurs respectifs. Dans les problèmes du monde réel, on s'attend à ce que la matrice d'utilité soit très éparse, car chaque utilisateur ne rencontre qu'une petite fraction d'éléments parmi le vaste ensemble d'options disponibles"
      ],
      "metadata": {
        "id": "_PSAsNRzWU64"
      }
    },
    {
      "cell_type": "code",
      "execution_count": 1,
      "metadata": {
        "colab": {
          "base_uri": "https://localhost:8080/"
        },
        "id": "wv6LwYLsWeXl",
        "outputId": "320ab885-fce1-46e2-b124-a2ec738e2cc8"
      },
      "outputs": [
        {
          "output_type": "stream",
          "name": "stdout",
          "text": [
            "Collecting pyspark\n",
            "  Downloading pyspark-3.2.0.tar.gz (281.3 MB)\n",
            "\u001b[K     |████████████████████████████████| 281.3 MB 38 kB/s \n",
            "\u001b[?25hCollecting py4j==0.10.9.2\n",
            "  Downloading py4j-0.10.9.2-py2.py3-none-any.whl (198 kB)\n",
            "\u001b[K     |████████████████████████████████| 198 kB 46.3 MB/s \n",
            "\u001b[?25hBuilding wheels for collected packages: pyspark\n",
            "  Building wheel for pyspark (setup.py) ... \u001b[?25l\u001b[?25hdone\n",
            "  Created wheel for pyspark: filename=pyspark-3.2.0-py2.py3-none-any.whl size=281805912 sha256=3e918736b075d1be3f56a1077915e5f2373cd026e6da36fd40fd7876f6abb9e0\n",
            "  Stored in directory: /root/.cache/pip/wheels/0b/de/d2/9be5d59d7331c6c2a7c1b6d1a4f463ce107332b1ecd4e80718\n",
            "Successfully built pyspark\n",
            "Installing collected packages: py4j, pyspark\n",
            "Successfully installed py4j-0.10.9.2 pyspark-3.2.0\n"
          ]
        }
      ],
      "source": [
        "! pip install pyspark"
      ]
    },
    {
      "cell_type": "code",
      "source": [
        "from pyspark.ml.evaluation import RegressionEvaluator\n",
        "from pyspark.ml.recommendation import ALS\n",
        "from pyspark.sql import Row\n",
        "from pyspark.ml.tuning import TrainValidationSplit, ParamGridBuilder"
      ],
      "metadata": {
        "id": "c95Ng-ncW8vp"
      },
      "execution_count": 2,
      "outputs": []
    },
    {
      "cell_type": "markdown",
      "source": [
        ""
      ],
      "metadata": {
        "id": "zauaHB1YWOnA"
      }
    },
    {
      "cell_type": "code",
      "source": [
        "from pyspark import SparkContext\n",
        "sc=SparkContext()"
      ],
      "metadata": {
        "id": "8OYjL4e5X_KQ"
      },
      "execution_count": 3,
      "outputs": []
    },
    {
      "cell_type": "markdown",
      "source": [
        "Pour charger les données sous forme de dataframe spark, importez pyspark et instanciez une session spark."
      ],
      "metadata": {
        "id": "Bpln29BCnY4k"
      }
    },
    {
      "cell_type": "code",
      "source": [
        "from pyspark.sql import SparkSession\n",
        "spark=SparkSession.builder.appName('abc').getOrCreate()"
      ],
      "metadata": {
        "id": "AU53ed29eoy7"
      },
      "execution_count": 4,
      "outputs": []
    },
    {
      "cell_type": "code",
      "source": [
        ""
      ],
      "metadata": {
        "id": "fIhXjYLjXViS"
      },
      "execution_count": 4,
      "outputs": []
    },
    {
      "cell_type": "markdown",
      "source": [
        "Il y a 2 tuples, movies et ratings qui contiennent des variables telles que MovieID::Genre::Title et UserID::MovieID::Rating::Timestamp respectivement.\n",
        "\n",
        "\n",
        "1.   Charger les données dans un RDD chaque ligne est sous forme d'une chaine de caractère apres on va spliter chaque ligne par une tab et on cast chaque case selon le casting ci dessous apres on tronsforme la RDD en dataframe car ALS comprend just le DATAFRAME\n",
        "\n",
        "\n"
      ],
      "metadata": {
        "id": "QgizyVYj-1Fk"
      }
    },
    {
      "cell_type": "code",
      "source": [
        "lines = sc.textFile(\"/content/sample_data/u.data\")\n",
        "parts = lines.map(lambda row: row.split(\"\\t\"))#séparer les colonnes par␣ tabulation\n",
        "ratingsRDD = parts.map(lambda p: Row(userId=int(p[0]), movieId=int(p[1]),rating=float(p[2]), timestamp=int(p[3])))\n",
        "#transformer␣,→chaque ligne du RDD \"parts\" à un objet Row qui contient des colonnes avec␣,\n",
        "#→leurs noms et leurs types correspondants\n",
        "\n",
        "print(ratingsRDD.first())\n",
        "ratings = spark.createDataFrame(ratingsRDD)#créer le dataframe"
      ],
      "metadata": {
        "id": "XtG6KosHXkPh",
        "colab": {
          "base_uri": "https://localhost:8080/"
        },
        "outputId": "e76f199b-4438-47d9-a74e-ec623c45e8ce"
      },
      "execution_count": 5,
      "outputs": [
        {
          "output_type": "stream",
          "name": "stdout",
          "text": [
            "['196', '242', '3', '881250949']\n",
            "Row(userId=196, movieId=242, rating=3.0, timestamp=881250949)\n"
          ]
        }
      ]
    },
    {
      "cell_type": "markdown",
      "source": [
        "2.  On va appliquer le coldstrat=drop pour sumprimer tout les users qui n'ont pas donner un rating,il va les identifier et les supprimer de meme pour movies\n",
        "3. Apres nous allons appliquer le param Grid Builder() pour qu'il boucle dans rank et iter et choisi le meilleiur choix"
      ],
      "metadata": {
        "id": "Pgc-0WxD-8bR"
      }
    },
    {
      "cell_type": "code",
      "source": [
        "(training, test) = ratings.randomSplit([0.8, 0.2])\n",
        "als = ALS(userCol=\"userId\", itemCol=\"movieId\", ratingCol=\"rating\", coldStartStrategy=\"drop\", nonnegative= True)\n",
        "#séparer aleatoirement l'ensemble d'entrainement et l'ensemble de test respectivement selon les pourcentages 80% et 20%\n",
        "param_grid=ParamGridBuilder().addGrid(als.rank,[12,13,14]).addGrid(als.maxIter,[5,6,7]).addGrid(als.regParam,[.1,.2,.3]).build()\n",
        "evaluator = RegressionEvaluator(metricName=\"rmse\", labelCol=\"rating\", predictionCol=\"prediction\")\n",
        "tvs= TrainValidationSplit(estimator=als, estimatorParamMaps=param_grid,evaluator=evaluator)\n",
        "print (\"start training\")\n",
        "model = tvs.fit(training)\n"
      ],
      "metadata": {
        "id": "4mfGPV4PfhJU",
        "colab": {
          "base_uri": "https://localhost:8080/"
        },
        "outputId": "6aa8d35b-2f0c-45ba-b6bd-3a5b176ab4cb"
      },
      "execution_count": 7,
      "outputs": [
        {
          "output_type": "stream",
          "name": "stdout",
          "text": [
            "start training\n"
          ]
        }
      ]
    },
    {
      "cell_type": "markdown",
      "source": [
        "4. pour tester la performance du modele nous allons appliquer le rmse qui permet de calculer l'écart entre les valeurs réels et prédite"
      ],
      "metadata": {
        "id": "T_xWnvgBLN1u"
      }
    },
    {
      "cell_type": "code",
      "source": [
        "best_model=model.bestModel\n",
        "print (\"start testing\")\n",
        "predictions = best_model.transform(test)\n",
        "print (\"start evaluation\")\n",
        "rmse = evaluator.evaluate(predictions)\n",
        "print(\"Root-mean-square error = \" + str(rmse))\n",
        "print(\"**bestModel**\")\n",
        "print(\" rank:\"), best_model.rank\n",
        "print(\" maxIter:\"), best_model._java_obj.parent().getMaxIter()\n",
        "print(\" regParam:\"), best_model._java_obj.parent().getRegParam()\n",
        "predictions.sort(\"userId\", \"rating\").show()"
      ],
      "metadata": {
        "id": "BXvEfTcdfwBE",
        "colab": {
          "base_uri": "https://localhost:8080/"
        },
        "outputId": "09057c2f-8ee0-4cbb-f162-19e5e31eb67c"
      },
      "execution_count": 8,
      "outputs": [
        {
          "output_type": "stream",
          "name": "stdout",
          "text": [
            "start testing\n",
            "start evaluation\n",
            "Root-mean-square error = 0.9258704267262458\n",
            "**bestModel**\n",
            " rank:\n",
            " maxIter:\n",
            " regParam:\n",
            "+------+-------+------+---------+----------+\n",
            "|userId|movieId|rating|timestamp|prediction|\n",
            "+------+-------+------+---------+----------+\n",
            "|     1|    219|   1.0|878542327|  3.157984|\n",
            "|     1|    104|   1.0|875241619| 1.7559676|\n",
            "|     1|    103|   1.0|878542845|   1.55215|\n",
            "|     1|    247|   1.0|875241619|0.91633904|\n",
            "|     1|    233|   2.0|878542552|  3.096055|\n",
            "|     1|     36|   2.0|875073180| 1.7918693|\n",
            "|     1|    225|   2.0|878542738| 2.1766071|\n",
            "|     1|     27|   2.0|876892946| 3.0114648|\n",
            "|     1|    105|   2.0|875240739| 2.2090845|\n",
            "|     1|    102|   2.0|889751736|  3.024571|\n",
            "|     1|    205|   3.0|878542909| 4.2347946|\n",
            "|     1|    117|   3.0|874965739|   3.38307|\n",
            "|     1|      4|   3.0|876893119| 3.7962031|\n",
            "|     1|    217|   3.0|876892676| 3.0883493|\n",
            "|     1|     24|   3.0|875071713|  3.544331|\n",
            "|     1|    232|   3.0|878543196| 3.2465258|\n",
            "|     1|     49|   3.0|878542478|  3.139453|\n",
            "|     1|     62|   3.0|878542282| 2.7545483|\n",
            "|     1|     70|   3.0|875072895| 3.7294388|\n",
            "|     1|    130|   3.0|875072002|  2.089873|\n",
            "+------+-------+------+---------+----------+\n",
            "only showing top 20 rows\n",
            "\n"
          ]
        }
      ]
    },
    {
      "cell_type": "markdown",
      "source": [
        "RMSE=0.92 ce qui vaut dire que sur une base  5 ratings le modèle commis un écart presque 1"
      ],
      "metadata": {
        "id": "EIMOzffTOeG7"
      }
    },
    {
      "cell_type": "markdown",
      "source": [
        "# diminuer rmse en changeant les hyperparametrs"
      ],
      "metadata": {
        "id": "9MIQmWXcWfKl"
      }
    },
    {
      "cell_type": "code",
      "source": [
        "(training, test) = ratings.randomSplit([0.85, 0.15])\n",
        "als = ALS(userCol=\"userId\", itemCol=\"movieId\", ratingCol=\"rating\", coldStartStrategy=\"drop\", nonnegative= True)\n",
        "param_grid=ParamGridBuilder().addGrid(als.rank,[8,9,14]).addGrid(als.maxIter,[5,6,10]).addGrid(als.regParam,[.1,.2,.3]).build()\n",
        "evaluator = RegressionEvaluator(metricName=\"rmse\", labelCol=\"rating\", predictionCol=\"prediction\")\n",
        "tvs= TrainValidationSplit(estimator=als, estimatorParamMaps=param_grid,evaluator=evaluator)\n",
        "print (\"start training\")\n",
        "model = tvs.fit(training)"
      ],
      "metadata": {
        "colab": {
          "base_uri": "https://localhost:8080/"
        },
        "id": "k_ykVnY0Fix3",
        "outputId": "7e10aa39-4375-4522-c738-355a0918cc2a"
      },
      "execution_count": 17,
      "outputs": [
        {
          "output_type": "stream",
          "name": "stdout",
          "text": [
            "start training\n"
          ]
        }
      ]
    },
    {
      "cell_type": "code",
      "source": [
        "best_model=model.bestModel\n",
        "print (\"start testing\")\n",
        "predictions = best_model.transform(test)\n",
        "print (\"start evaluation\")\n",
        "rmse = evaluator.evaluate(predictions)\n",
        "print(\"Root-mean-square error = \" + str(rmse))\n",
        "print(\"**bestModel**\")\n",
        "print(\" rank:\"), best_model.rank\n",
        "print(\" maxIter:\"), best_model._java_obj.parent().getMaxIter()\n",
        "print(\" regParam:\"), best_model._java_obj.parent().getRegParam()\n",
        "predictions.sort(\"userId\", \"rating\").show()"
      ],
      "metadata": {
        "colab": {
          "base_uri": "https://localhost:8080/"
        },
        "id": "NLakfy2dGSb4",
        "outputId": "91ea0a78-eb3e-4db9-a8c1-d1814e4d3a1a"
      },
      "execution_count": 18,
      "outputs": [
        {
          "output_type": "stream",
          "name": "stdout",
          "text": [
            "start testing\n",
            "start evaluation\n",
            "Root-mean-square error = 0.9189294795969207\n",
            "**bestModel**\n",
            " rank:\n",
            " maxIter:\n",
            " regParam:\n",
            "+------+-------+------+---------+----------+\n",
            "|userId|movieId|rating|timestamp|prediction|\n",
            "+------+-------+------+---------+----------+\n",
            "|     1|    260|   1.0|875071713| 2.5553405|\n",
            "|     1|    120|   1.0|875241637|  1.797494|\n",
            "|     1|    131|   1.0|878542552| 3.9151368|\n",
            "|     1|    263|   1.0|875693007| 2.1135724|\n",
            "|     1|     74|   1.0|889751736| 2.9592407|\n",
            "|     1|    149|   2.0|878542791| 3.4974918|\n",
            "|     1|    237|   2.0|875071749| 3.6188843|\n",
            "|     1|    118|   3.0|875071927|  2.621757|\n",
            "|     1|    164|   3.0|876893171| 3.4595132|\n",
            "|     1|     70|   3.0|875072895| 3.7134166|\n",
            "|     1|    217|   3.0|876892676|  3.216447|\n",
            "|     1|     69|   3.0|875072262| 3.6321673|\n",
            "|     1|     65|   4.0|875072125|  3.777763|\n",
            "|     1|     28|   4.0|875072173| 3.6751468|\n",
            "|     1|    133|   4.0|876892818| 3.4920053|\n",
            "|     1|    222|   4.0|878873388| 3.3912282|\n",
            "|     1|     80|   4.0|876893008| 2.6142032|\n",
            "|     1|    210|   4.0|878542909|  3.789327|\n",
            "|     1|     20|   4.0|887431883| 3.4138067|\n",
            "|     1|     90|   4.0|878542300| 3.1786208|\n",
            "+------+-------+------+---------+----------+\n",
            "only showing top 20 rows\n",
            "\n"
          ]
        }
      ]
    }
  ]
}